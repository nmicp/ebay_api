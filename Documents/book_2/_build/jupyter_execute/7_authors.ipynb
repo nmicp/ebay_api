{
 "cells": [
  {
   "cell_type": "markdown",
   "id": "94c3214c-ac4a-4593-8c15-4a87906d5fd6",
   "metadata": {},
   "source": [
    "## **About the Authors**\n",
    "\n",
    "<a href=\"https://www.linkedin.com/in/elizabethwklee/\">Elizabeth Lee</a> graduated from the University of Virginia with a Masters of Science in Data Science in 2022. \n",
    "\n",
    "<a href=\"https://www.linkedin.com/in/karolinanaranjo/\">Karolina Naranjo-Velasco</a> graduated from the University of Virginia with a Masters of Science in Data Science in 2022. \n",
    "\n",
    "<a href=\"https://www.linkedin.com/in/nicholasylandi/\">Nicholas Landi</a> graduated from the University of Virginia with a Masters of Science in Data Science in 2022. \n",
    "\n",
    "<a href= “https://www.linkedin.com/in/felipe-barraza-/”>Felipe Barraza</a> graduated from the University of Virginia with a Masters of Science in Data Science in 2022."
   ]
  },
  {
   "cell_type": "markdown",
   "id": "dafbbf49-49c8-4b3f-9f71-652975ccbcb1",
   "metadata": {},
   "source": [
    "### **Acknowledgements**\n",
    "\n",
    "The authors would like to thank Professor Jonathan Kropko for his continuous feedback and support as an advisor throughout this project. The authors would also like to thank Professor Fiona Greenland and Professor Michelle Fabiani for sponsoring this capstone project and providing their subject- area expertise when necessary. Finally, the authors would like to thank Jacalyn Huband, Ph.D., Computational Research Support Specialist at the University of Virginia, for her support in navigating high-performance computing.\n"
   ]
  }
 ],
 "metadata": {
  "kernelspec": {
   "display_name": "Python 3 (ipykernel)",
   "language": "python",
   "name": "python3"
  },
  "language_info": {
   "codemirror_mode": {
    "name": "ipython",
    "version": 3
   },
   "file_extension": ".py",
   "mimetype": "text/x-python",
   "name": "python",
   "nbconvert_exporter": "python",
   "pygments_lexer": "ipython3",
   "version": "3.8.10"
  }
 },
 "nbformat": 4,
 "nbformat_minor": 5
}