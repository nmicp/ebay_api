{
 "cells": [
  {
   "cell_type": "markdown",
   "id": "67bc53e1-7ba7-4950-aff4-053c6462ee78",
   "metadata": {},
   "source": [
    "## **Access to Rivanna - Appendix B**"
   ]
  },
  {
   "cell_type": "markdown",
   "id": "28b3278d-0dab-45ec-a36f-dcf1bc895db6",
   "metadata": {
    "tags": []
   },
   "source": [
    "###  **Instructions for Navigating and Accessing to Rivanna**"
   ]
  },
  {
   "cell_type": "markdown",
   "id": "b103a0a1-c9fe-4516-be56-184ae23a469f",
   "metadata": {
    "tags": []
   },
   "source": [
    "1. Login in Rivanna:\n",
    "\n",
    "    A. Click  <a href=\"https://rivanna-portal.hpc.virginia.edu/pun/sys/dashboard\">Initialize the interactive session</a>\n",
    "    \n",
    "    B. Use **JupyterLab**\n",
    "    \n",
    "    C. Select **Standard** to Rivanna Partition\n",
    "    \n",
    "    D. Required: Allocation Name **nmicp**\n",
    "    \n",
    "    E. Number of hours: how long to work on the platform\n",
    "    \n",
    "    F. Number of cores: generally it can be between 1 and 4\n",
    "    \n",
    "    G. Memory Request in GB: 6\n",
    "    \n",
    "    H. Work Directory: **PROJECT**\n",
    "    \n",
    "    I. Click **<span style=\"color:blue\">LAUNCH</span>**\n",
    "    \n",
    "2. Staring the interactive session:\n",
    "\n",
    "    A. Click <span style=\"color:blue\">Connect to Jupyter</span>\n",
    "    \n",
    "    B. Go to the folder **nmicp**\n",
    "    \n",
    "    C. To change a category:\n",
    "            - go CategoryList_input.py\n",
    "            - check Appendix A for shortlist of category names \n",
    "        \n",
    "    D. To check how the automated pipeline works – do not change it, go to the file <code>eBay_datacollection.py</code>\n"
   ]
  },
  {
   "cell_type": "markdown",
   "id": "3b6e785a-de1b-428b-8630-090261b43430",
   "metadata": {},
   "source": [
    "### **Instructions for Accessing Data with R**"
   ]
  },
  {
   "cell_type": "markdown",
   "id": "92640baf-7ba6-4f4d-9723-aa60a54d8388",
   "metadata": {},
   "source": [
    "1. Login in Rivanna: \n",
    "\n",
    "      A. Click  Click  <a href=\"https://rivanna-portal.hpc.virginia.edu/pun/sys/dashboard\">Initialize the interactive session</a>\n",
    "    \n",
    "      B. Open **RStudio Server**\n",
    "      \n",
    "      C. Select **R version** : 4.0.0\n",
    "      \n",
    "      D. Set **Standard** to Rivanna Partition \n",
    "      \n",
    "      E. Number of hours: how long to work on the platform\n",
    "    \n",
    "      F. Number of cores: generally it can be between 1 and 4\n",
    "    \n",
    "      G. Memory Request in GB: 6\n",
    "      \n",
    "      H. Click **<span style=\"color:blue\">LAUNCH</span>**\n",
    "    \n",
    "2. Staring the interactive session:\n",
    "\n",
    "      A. Run file “r_database_connect.R”\n",
    "      \n",
    "      B. Resulting output is the data in a table in R \n",
    "\n"
   ]
  }
 ],
 "metadata": {
  "kernelspec": {
   "display_name": "Python 3 (ipykernel)",
   "language": "python",
   "name": "python3"
  },
  "language_info": {
   "codemirror_mode": {
    "name": "ipython",
    "version": 3
   },
   "file_extension": ".py",
   "mimetype": "text/x-python",
   "name": "python",
   "nbconvert_exporter": "python",
   "pygments_lexer": "ipython3",
   "version": "3.8.10"
  }
 },
 "nbformat": 4,
 "nbformat_minor": 5
}