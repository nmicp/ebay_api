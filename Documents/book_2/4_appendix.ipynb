{
 "cells": [
  {
   "cell_type": "markdown",
   "id": "1a464739-4cf6-4976-86ed-00844c17bb5e",
   "metadata": {},
   "source": [
    "## **Categories Table - Appendix A**\n",
    "\n",
    "\n",
    "This table contains the category and corresponding category ID of the data pipeline. \n",
    "\n",
    "\n",
    "|     Category                              |     Category ID    |\n",
    "|-------------------------------------------|--------------------|\n",
    "|     Asian Antiques                        |     20082          |\n",
    "|     Burma                                 |     162938         |\n",
    "|     China                                 |     37919          |\n",
    "|     Amulets                               |     162939         |\n",
    "|     Armor                                 |     162940         |\n",
    "|     Bells                                 |     162941         |\n",
    "|     Bowls                                 |     37921          |\n",
    "|     Boxes                                 |     37922          |\n",
    "|     Figurines & Statues                   |     184440         |\n",
    "|     Ink Stones                            |     162944         |\n",
    "|     Masks                                 |     162945         |\n",
    "|     Pots                                  |     37929          |\n",
    "|     Rings                                 |     162946         |\n",
    "|     Seals                                 |     162947         |\n",
    "|     Swords                                |     162963         |\n",
    "|     Vases                                 |     37933          |\n",
    "|     Other Chinese Antiques                |     73465          |\n",
    "|     India                                 |     60209          |\n",
    "|     Japan                                 |     37934          |\n",
    "|     Korea                                 |     162979         |\n",
    "|     Middle East                           |     116556         |\n",
    "|     Mongolia                              |     162989         |\n",
    "|     Southeast Asia                        |     164808         |\n",
    "|     Tibet                                 |     79947          |\n",
    "|     Unspecified, Unknown Origin           |     162988         |\n",
    "|     Bullion                               |     39482          |\n",
    "|     Coins: Ancient                        |     4733           |\n",
    "|     Greek (450 BC-100 AD)                 |     4738           |\n",
    "|     Roman: Republic (300 BC-27   BC)      |     3365           |\n",
    "|     Roman: Imperial (27 BC-476   AD)      |     4734           |\n",
    "|     Roman: Provincial (100-400   AD)      |     4735           |\n",
    "|     Byzantine (300-1400 AD)               |     3364           |\n",
    "|     Other Ancient Coins                   |     532            |\n",
    "|     Coins: Medieval                       |     18466          |\n",
    "|     Coins: World                          |     256            |\n",
    "|     Vintage & Antique   Jewelry           |     262024         |\n",
    "|     Other Vintage & Antique   Jewelry     |     166734         |\n",
    "|     Pottery & Glass                       |     870            |\n",
    "|     Cookware, Dinnerware &   Serveware    |     262364         |\n",
    "|     Decorative Pottery &   Glassware      |     262384         |\n",
    "|     Other Pottery & Glass                 |     262365         |\n"
   ]
  },
  {
   "cell_type": "code",
   "execution_count": null,
   "id": "18ffd441-ccec-4300-91c4-7b48ec618e12",
   "metadata": {},
   "outputs": [],
   "source": []
  }
 ],
 "metadata": {
  "kernelspec": {
   "display_name": "Python 3 (ipykernel)",
   "language": "python",
   "name": "python3"
  },
  "language_info": {
   "codemirror_mode": {
    "name": "ipython",
    "version": 3
   },
   "file_extension": ".py",
   "mimetype": "text/x-python",
   "name": "python",
   "nbconvert_exporter": "python",
   "pygments_lexer": "ipython3",
   "version": "3.8.12"
  }
 },
 "nbformat": 4,
 "nbformat_minor": 5
}
